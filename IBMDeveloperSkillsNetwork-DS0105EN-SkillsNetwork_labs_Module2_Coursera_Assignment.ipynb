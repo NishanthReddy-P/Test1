{
  "metadata": {
    "language_info": {
      "codemirror_mode": {
        "name": "python",
        "version": 3
      },
      "file_extension": ".py",
      "mimetype": "text/x-python",
      "name": "python",
      "nbconvert_exporter": "python",
      "pygments_lexer": "ipython3",
      "version": "3.8"
    },
    "kernelspec": {
      "name": "python",
      "display_name": "Pyolite",
      "language": "python"
    }
  },
  "nbformat_minor": 4,
  "nbformat": 4,
  "cells": [
    {
      "cell_type": "markdown",
      "source": "# My Jupyter Notebook on IBM Watson Studio",
      "metadata": {}
    },
    {
      "cell_type": "markdown",
      "source": "**Nishanth Reddy Ponnala** <br>\nDesired Occupation : Data Scientist",
      "metadata": {}
    },
    {
      "cell_type": "markdown",
      "source": "*I am intrested in data science because I am very passionate about how data can drive insights and value in sports and finance and I would like to work in these sectors.*",
      "metadata": {}
    },
    {
      "cell_type": "markdown",
      "source": "### Below code is for simple multiplication of two numbers",
      "metadata": {}
    },
    {
      "cell_type": "code",
      "source": "a=3*5\nprint(a)",
      "metadata": {
        "trusted": true
      },
      "execution_count": 2,
      "outputs": [
        {
          "name": "stdout",
          "text": "15\n",
          "output_type": "stream"
        }
      ]
    },
    {
      "cell_type": "markdown",
      "source": "> Avengers is a Marvel Movie\n>\n> The Dark knight is a DC Movie\n\n<a href=\"https://www.imdb.com/title/tt0468569/\">The Dark Knight IMDB Page</a> \n\n| Movie | Actor |\n| ------ | ------ |\n| The Dark Knight | Christan Bale |\n| Avengers | Robert Downey Jr |",
      "metadata": {}
    }
  ]
}